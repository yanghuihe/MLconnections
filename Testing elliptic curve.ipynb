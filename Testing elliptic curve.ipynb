{
 "cells": [
  {
   "cell_type": "code",
   "execution_count": 1,
   "metadata": {
    "ExecuteTime": {
     "end_time": "2021-02-23T16:24:28.291836Z",
     "start_time": "2021-02-23T16:24:24.209365Z"
    }
   },
   "outputs": [
    {
     "name": "stdout",
     "output_type": "stream",
     "text": [
      "Hello from BihomoNN! Arbitrary dimension!\n"
     ]
    }
   ],
   "source": [
    "import sympy as sp\n",
    "import tensorflow as tf\n",
    "import tensorflow.python.keras.backend as K\n",
    "import tensorflow_probability as tfp\n",
    "\n",
    "import MLGeometry as mlg\n",
    "from MLGeometry import bihomoNN as bnn\n",
    "\n",
    "import math\n",
    "import numpy as np\n",
    "import matplotlib.pyplot as plt\n",
    "from mpl_toolkits.mplot3d import Axes3D\n",
    "\n",
    "np.random.seed(42)\n",
    "tf.random.set_seed(42)"
   ]
  },
  {
   "cell_type": "code",
   "execution_count": 2,
   "metadata": {
    "ExecuteTime": {
     "end_time": "2021-02-23T16:24:28.302877Z",
     "start_time": "2021-02-23T16:24:28.293923Z"
    }
   },
   "outputs": [],
   "source": [
    "# Matplotlib options\n",
    "%matplotlib inline\n",
    "#%matplotlib notebook\n",
    "plt.style.use('dark_background')\n",
    "plt.rcParams['figure.dpi'] = 200\n",
    "plt.rcParams['figure.figsize'] = [4, 2]\n",
    "plt.rcParams['text.usetex'] = True"
   ]
  },
  {
   "cell_type": "markdown",
   "metadata": {},
   "source": [
    "## Modules"
   ]
  },
  {
   "cell_type": "code",
   "execution_count": 3,
   "metadata": {
    "ExecuteTime": {
     "end_time": "2021-02-23T16:24:28.317382Z",
     "start_time": "2021-02-23T16:24:28.305102Z"
    }
   },
   "outputs": [],
   "source": [
    "# Plot training get_loss_hist\n",
    "def plot_train_hist(model, val=False, y_scale='linear'):\n",
    "    x1 = np.arange(1, len(model.get_loss_hist())+1)\n",
    "    plt.scatter(x1, model.get_loss_hist(), marker='.', label='Training loss' )\n",
    "    #if val:\n",
    "    #    plt.scatter(x1, model.get_loss_hist['val_loss'], marker='.', label='Validation loss')\n",
    "    plt.xlabel('Training epochs')\n",
    "    plt.ylabel('Loss')\n",
    "    plt.yscale(y_scale)\n",
    "    plt.legend()\n",
    "    print(\"Final loss: \", model.get_loss_hist()[-1])\n",
    "    return plt.show()"
   ]
  },
  {
   "cell_type": "code",
   "execution_count": 11,
   "metadata": {
    "ExecuteTime": {
     "end_time": "2021-02-23T16:31:07.202462Z",
     "start_time": "2021-02-23T16:31:07.195334Z"
    }
   },
   "outputs": [],
   "source": [
    "def cal_total_loss(dataset, hermitian_met, kahler_pot, loss_function, c1):\n",
    "    total_loss = tf.constant(0, dtype=tf.float32)\n",
    "    total_mass = tf.constant(0, dtype=tf.float32)\n",
    "    \n",
    "    for step, (points, Omega_Omegabar, mass, restriction) in enumerate(dataset):\n",
    "        curv_tr = curvature_trace(points, kahler_pot, hermitian_met, mass)\n",
    "        mass_sum = tf.reduce_sum(mass)\n",
    "        total_loss += loss_function(c1, curv_tr, mass)  * mass_sum\n",
    "        total_mass += mass_sum\n",
    "    total_loss = total_loss / total_mass\n",
    "\n",
    "    return total_loss.numpy()\n",
    "\n"
   ]
  },
  {
   "cell_type": "markdown",
   "metadata": {},
   "source": [
    "Networks for $\\mathcal{O}_X(1)$, $\\mathcal{O}_X(2)$, $\\mathcal{O}_X(4)$ respectively.\n",
    "\n",
    "\\begin{itemize}\n",
    "\\item \"dim\" is the number of projective coordinates of points on the CY hypersurface.\n",
    "\\item \"vec\" is a vector giving the number of neurons for layers 1 through d-1\n",
    "\\item \"rank\" is the rank of the vector bundle -- so far should just be 1\n",
    "\\end{itemize}"
   ]
  },
  {
   "cell_type": "code",
   "execution_count": 5,
   "metadata": {
    "ExecuteTime": {
     "end_time": "2021-02-23T16:24:28.726380Z",
     "start_time": "2021-02-23T16:24:28.687342Z"
    }
   },
   "outputs": [],
   "source": [
    "class Hermitian_metric_O1(tf.keras.Model):\n",
    "    def __init__(self, dim, rank, vec):\n",
    "        super(Hermitian_metric_O1, self).__init__()\n",
    "        self.dim = dim\n",
    "        self.rank = rank\n",
    "        self.vec = vec\n",
    "        self.loss_hist = []\n",
    "        print(\"Bundle rank\", self.rank)\n",
    "        self.bihomogeneous = bnn.Bihomogeneous(self.dim)\n",
    "        self.layer1 = bnn.Dense(self.dim**2, self.rank)\n",
    "    \n",
    "    def append_loss(self, loss):\n",
    "        self.loss_hist.append([loss])\n",
    "    \n",
    "    def get_loss_hist(self):\n",
    "        return self.loss_hist\n",
    "    \n",
    "    def call(self, inputs):\n",
    "        x = self.bihomogeneous(inputs)\n",
    "        x = tf.math.log(x)\n",
    "        return x\n",
    "    \n",
    "\n",
    "class Hermitian_metric_O2(tf.keras.Model):\n",
    "    def __init__(self, dim, rank, vec):\n",
    "        super(Hermitian_metric_O2, self).__init__()\n",
    "        self.dim = dim\n",
    "        self.rank = rank\n",
    "        self.vec = vec\n",
    "        self.loss_hist = []\n",
    "        print(\"Bundle rank\", self.rank)\n",
    "        self.bihomogeneous = bnn.Bihomogeneous(self.dim)\n",
    "        self.layer1 = bnn.Dense(self.dim**2, self.vec[0], activation=tf.square)\n",
    "        self.layer2 = bnn.Dense(self.vec[0], self.rank)\n",
    "        \n",
    "    def append_loss(self, loss):\n",
    "        self.loss_hist.append([loss])\n",
    "    \n",
    "    def get_loss_hist(self):\n",
    "        return self.loss_hist\n",
    "    \n",
    "    def call(self, inputs):\n",
    "        x = self.bihomogeneous(inputs)\n",
    "        x = self.layer1(x)\n",
    "        x = self.layer2(x)\n",
    "        x = tf.math.log(x)\n",
    "        return x\n",
    "  \n",
    "\n",
    "class Hermitian_metric_O4(tf.keras.Model):\n",
    "    def __init__(self, dim, rank, vec):\n",
    "        super(Hermitian_metric_O4, self).__init__()\n",
    "        self.dim = dim\n",
    "        self.rank = rank\n",
    "        self.vec = vec\n",
    "        self.loss_hist = []\n",
    "        print(\"Bundle rank\", self.rank)\n",
    "        self.bihomogeneous = bnn.Bihomogeneous(self.dim)\n",
    "        self.layer1 = bnn.Dense(dim**2, self.vec[0], activation=tf.square)\n",
    "        self.layer2 = bnn.Dense(self.vec[0], self.vec[1], activation=tf.square)\n",
    "        self.layer3 = bnn.Dense(self.vec[1], self.rank)\n",
    "    \n",
    "    def append_loss(self, loss):\n",
    "        self.loss_hist.append([loss])\n",
    "    \n",
    "    def get_loss_hist(self):\n",
    "        return self.loss_hist\n",
    "    \n",
    "    def call(self, inputs):\n",
    "        x = self.bihomogeneous(inputs)\n",
    "        x = self.layer1(x)\n",
    "        x = self.layer2(x)\n",
    "        x = self.layer3(x)\n",
    "        x = tf.math.log(x)\n",
    "        return x"
   ]
  },
  {
   "cell_type": "markdown",
   "metadata": {},
   "source": [
    "## Curvature calculation"
   ]
  },
  {
   "cell_type": "markdown",
   "metadata": {},
   "source": [
    "\\begin{itemize}\n",
    "\\item Issue with normalization needs to be fixed here, in weighted_loss\n",
    "\\item Other issue is taking inverse of K\\\"ahler metric or curvature tensor when calculating $g^{i\\bar{j}} F_{i\\bar{j}}$\n",
    "\\end{itemize}"
   ]
  },
  {
   "cell_type": "markdown",
   "metadata": {},
   "source": [
    "weighted_loss and curvature_trace are used together to determine\n",
    "\n",
    "\\begin{eqnarray}\n",
    "  \\label{eq:error-loss-num}\n",
    "       E(\\vec{\\mathbf{w}}) &=&        \n",
    "       \\frac{\\sum_{\\mathrm{points,} i} \\left( g^{i\\bar{j}}(p_i) F_{i \\bar{j}}(\\vec{\\mathbf{w}}, p_i ) - \\mu(L) \\right) w_i ~}{  \\sum_{\\mathrm{points,} i} w_i } \\\\\n",
    "       &:=& \\frac{\\left( \\int_X g^{i\\bar{j}} F_{i \\bar{j}}(\\vec{\\mathbf{w}})  - \\mu(L)~ \\mathrm{dvol_{CY}}\\right) }{ \\int_X \\mathrm{dvol{CY}}} \n",
    "\\end{eqnarray}\n"
   ]
  },
  {
   "cell_type": "code",
   "execution_count": 6,
   "metadata": {
    "ExecuteTime": {
     "end_time": "2021-02-23T16:24:33.009594Z",
     "start_time": "2021-02-23T16:24:32.990353Z"
    }
   },
   "outputs": [],
   "source": [
    "def weighted_MAPE(y_true, y_pred, mass):\n",
    "    weights = mass / K.sum(mass)\n",
    "    return K.sum(K.abs(y_true - y_pred) / tf.cast(y_true, tf.float32) * weights)\n",
    "\n",
    "def weighted_loss(y_true, y_pred, mass):\n",
    "    weights = mass /K.sum(mass)\n",
    "    #print(4\"loss1:\", K.sum( K.abs(y_pred - y_true) * weights))\n",
    "    #print(\"loss2:\", K.sum( K.abs(y_pred - y_true) * weights) / K.sum(weights))\n",
    "    #return K.abs( K.sum( (y_pred - y_true) * weights) ) / K.sum(weights) \n",
    "    return K.sum( K.abs(y_pred - y_true) * weights) / K.sum(weights)\n",
    "\n",
    "@tf.function\n",
    "def curvature_trace(points, kahler_pot, herm_metric, mass):\n",
    "    kahler_metric = mlg.complex_math.complex_hessian(tf.math.real(kahler_pot(points)), points)\n",
    "    #print(\"kahler_metric: \", kahler_metric)\n",
    "    #inv_kahler_metric = tf.linalg.inv(kahler_metric)\n",
    "    #print(\"inverse kahler_metric: \", inv_kahler_metric)\n",
    "    curvature = mlg.complex_math.complex_hessian(tf.math.real(herm_metric(points)), points)\n",
    "    #print(\"curvature\", curvature)\n",
    "    #inv_curvature = tf.linalg.inv(curvature)\n",
    "    curvature_trace = tf.linalg.trace(tf.matmul(kahler_metric, curvature) )\n",
    "    # print(\"contraction\", tf.matmul(kahler_metric, curvature) )\n",
    "    # print(\"curvature_trace: \", curvature_trace)\n",
    "    return curvature_trace\n"
   ]
  },
  {
   "cell_type": "markdown",
   "metadata": {},
   "source": [
    "## Generate points and load Kahler potential network"
   ]
  },
  {
   "cell_type": "code",
   "execution_count": 7,
   "metadata": {
    "ExecuteTime": {
     "end_time": "2021-02-23T16:24:36.238382Z",
     "start_time": "2021-02-23T16:24:35.795687Z"
    }
   },
   "outputs": [
    {
     "data": {
      "text/latex": [
       "$\\displaystyle z_{0}^{3} - z_{0}^{2} z_{2} - z_{1}^{2} z_{2} + z_{2}^{3}$"
      ],
      "text/plain": [
       "z0**3 - z0**2*z2 - z1**2*z2 + z2**3"
      ]
     },
     "execution_count": 7,
     "metadata": {},
     "output_type": "execute_result"
    }
   ],
   "source": [
    "z0, z1, z2 = sp.symbols('z0, z1, z2')\n",
    "Z = [z0, z1, z2]\n",
    "a, b =  -1, 1\n",
    "f = z0**3 + a * (z0**2)*z2 - (z1**2)*z2 + b*(z2**3) \n",
    "#f = z0**3 + z1**3 + z2**3 # Switch to Fermat curve\n",
    "f"
   ]
  },
  {
   "cell_type": "code",
   "execution_count": 8,
   "metadata": {
    "ExecuteTime": {
     "end_time": "2021-02-23T16:25:00.191530Z",
     "start_time": "2021-02-23T16:24:39.366147Z"
    }
   },
   "outputs": [],
   "source": [
    "# Create training and testing set\n",
    "n_pairs = 10000\n",
    "HS_train = mlg.hypersurface.Hypersurface(Z, f, n_pairs)\n",
    "HS_test = mlg.hypersurface.Hypersurface(Z, f, n_pairs)\n",
    "train_set = mlg.tf_dataset.generate_dataset(HS_train)\n",
    "test_set = mlg.tf_dataset.generate_dataset(HS_test)\n",
    "train_set = train_set.shuffle(HS_train.n_points).batch(1000)\n",
    "test_set = test_set.shuffle(HS_test.n_points).batch(1000)"
   ]
  },
  {
   "cell_type": "code",
   "execution_count": 9,
   "metadata": {
    "ExecuteTime": {
     "end_time": "2021-02-23T16:25:00.409674Z",
     "start_time": "2021-02-23T16:25:00.193799Z"
    }
   },
   "outputs": [
    {
     "name": "stdout",
     "output_type": "stream",
     "text": [
      "WARNING:tensorflow:No training configuration found in save file, so the model was *not* compiled. Compile it manually.\n"
     ]
    }
   ],
   "source": [
    "# Load CY metric/Kahler potential\n",
    "kahler_pot = tf.keras.models.load_model(\"ec_2_kahler_pot\")\n",
    "# kahler_pot = tf.keras.models.load_model(\"ec_fermat_kahler_pot\") # Switch to fermat curve"
   ]
  },
  {
   "cell_type": "markdown",
   "metadata": {
    "heading_collapsed": true
   },
   "source": [
    "## O(1)"
   ]
  },
  {
   "cell_type": "markdown",
   "metadata": {
    "hidden": true
   },
   "source": [
    "This has stopped working due to no gradients occuring - $\\mathcal{O}_X(2)$ is the first that works"
   ]
  },
  {
   "cell_type": "code",
   "execution_count": 76,
   "metadata": {
    "ExecuteTime": {
     "end_time": "2021-02-23T00:14:02.880300Z",
     "start_time": "2021-02-23T00:13:48.296803Z"
    },
    "hidden": true,
    "scrolled": false
   },
   "outputs": [
    {
     "name": "stdout",
     "output_type": "stream",
     "text": [
      "Bundle rank 1\n",
      "Hermitian metric G network defined\n"
     ]
    },
    {
     "ename": "ValueError",
     "evalue": "No gradients provided for any variable: ['Variable:0'].",
     "output_type": "error",
     "traceback": [
      "\u001b[0;31m---------------------------------------------------------------------------\u001b[0m",
      "\u001b[0;31mValueError\u001b[0m                                Traceback (most recent call last)",
      "\u001b[0;32m<ipython-input-76-7f99315b6734>\u001b[0m in \u001b[0;36m<module>\u001b[0;34m\u001b[0m\n\u001b[1;32m     19\u001b[0m             \u001b[0mloss\u001b[0m \u001b[0;34m=\u001b[0m \u001b[0mloss_func\u001b[0m\u001b[0;34m(\u001b[0m\u001b[0mcurv_tr\u001b[0m\u001b[0;34m,\u001b[0m \u001b[0mc1\u001b[0m\u001b[0;34m,\u001b[0m \u001b[0mmass\u001b[0m\u001b[0;34m)\u001b[0m\u001b[0;34m\u001b[0m\u001b[0;34m\u001b[0m\u001b[0m\n\u001b[1;32m     20\u001b[0m             \u001b[0mgrads\u001b[0m \u001b[0;34m=\u001b[0m \u001b[0mtape\u001b[0m\u001b[0;34m.\u001b[0m\u001b[0mgradient\u001b[0m\u001b[0;34m(\u001b[0m\u001b[0mloss\u001b[0m\u001b[0;34m,\u001b[0m \u001b[0mhermitian_met\u001b[0m\u001b[0;34m.\u001b[0m\u001b[0mtrainable_weights\u001b[0m\u001b[0;34m)\u001b[0m\u001b[0;34m\u001b[0m\u001b[0;34m\u001b[0m\u001b[0m\n\u001b[0;32m---> 21\u001b[0;31m         \u001b[0moptimizer\u001b[0m\u001b[0;34m.\u001b[0m\u001b[0mapply_gradients\u001b[0m\u001b[0;34m(\u001b[0m\u001b[0mzip\u001b[0m\u001b[0;34m(\u001b[0m\u001b[0mgrads\u001b[0m\u001b[0;34m,\u001b[0m \u001b[0mhermitian_met\u001b[0m\u001b[0;34m.\u001b[0m\u001b[0mtrainable_weights\u001b[0m\u001b[0;34m)\u001b[0m\u001b[0;34m)\u001b[0m\u001b[0;34m\u001b[0m\u001b[0;34m\u001b[0m\u001b[0m\n\u001b[0m\u001b[1;32m     22\u001b[0m     \u001b[0;31m#if epoch % 50 == 0:\u001b[0m\u001b[0;34m\u001b[0m\u001b[0;34m\u001b[0m\u001b[0;34m\u001b[0m\u001b[0m\n\u001b[1;32m     23\u001b[0m     \u001b[0;31m#    print(\"epoch %d: loss = %.7f\" % (epoch, loss))\u001b[0m\u001b[0;34m\u001b[0m\u001b[0;34m\u001b[0m\u001b[0;34m\u001b[0m\u001b[0m\n",
      "\u001b[0;32m~/miniconda3/envs/ml/lib/python3.7/site-packages/tensorflow/python/keras/optimizer_v2/optimizer_v2.py\u001b[0m in \u001b[0;36mapply_gradients\u001b[0;34m(self, grads_and_vars, name, experimental_aggregate_gradients)\u001b[0m\n\u001b[1;32m    596\u001b[0m       \u001b[0mRuntimeError\u001b[0m\u001b[0;34m:\u001b[0m \u001b[0mIf\u001b[0m \u001b[0mcalled\u001b[0m \u001b[0;32min\u001b[0m \u001b[0ma\u001b[0m \u001b[0mcross\u001b[0m\u001b[0;34m-\u001b[0m\u001b[0mreplica\u001b[0m \u001b[0mcontext\u001b[0m\u001b[0;34m.\u001b[0m\u001b[0;34m\u001b[0m\u001b[0;34m\u001b[0m\u001b[0m\n\u001b[1;32m    597\u001b[0m     \"\"\"\n\u001b[0;32m--> 598\u001b[0;31m     \u001b[0mgrads_and_vars\u001b[0m \u001b[0;34m=\u001b[0m \u001b[0moptimizer_utils\u001b[0m\u001b[0;34m.\u001b[0m\u001b[0mfilter_empty_gradients\u001b[0m\u001b[0;34m(\u001b[0m\u001b[0mgrads_and_vars\u001b[0m\u001b[0;34m)\u001b[0m\u001b[0;34m\u001b[0m\u001b[0;34m\u001b[0m\u001b[0m\n\u001b[0m\u001b[1;32m    599\u001b[0m     \u001b[0mvar_list\u001b[0m \u001b[0;34m=\u001b[0m \u001b[0;34m[\u001b[0m\u001b[0mv\u001b[0m \u001b[0;32mfor\u001b[0m \u001b[0;34m(\u001b[0m\u001b[0m_\u001b[0m\u001b[0;34m,\u001b[0m \u001b[0mv\u001b[0m\u001b[0;34m)\u001b[0m \u001b[0;32min\u001b[0m \u001b[0mgrads_and_vars\u001b[0m\u001b[0;34m]\u001b[0m\u001b[0;34m\u001b[0m\u001b[0;34m\u001b[0m\u001b[0m\n\u001b[1;32m    600\u001b[0m \u001b[0;34m\u001b[0m\u001b[0m\n",
      "\u001b[0;32m~/miniconda3/envs/ml/lib/python3.7/site-packages/tensorflow/python/keras/optimizer_v2/utils.py\u001b[0m in \u001b[0;36mfilter_empty_gradients\u001b[0;34m(grads_and_vars)\u001b[0m\n\u001b[1;32m     77\u001b[0m   \u001b[0;32mif\u001b[0m \u001b[0;32mnot\u001b[0m \u001b[0mfiltered\u001b[0m\u001b[0;34m:\u001b[0m\u001b[0;34m\u001b[0m\u001b[0;34m\u001b[0m\u001b[0m\n\u001b[1;32m     78\u001b[0m     raise ValueError(\"No gradients provided for any variable: %s.\" %\n\u001b[0;32m---> 79\u001b[0;31m                      ([v.name for _, v in grads_and_vars],))\n\u001b[0m\u001b[1;32m     80\u001b[0m   \u001b[0;32mif\u001b[0m \u001b[0mvars_with_empty_grads\u001b[0m\u001b[0;34m:\u001b[0m\u001b[0;34m\u001b[0m\u001b[0;34m\u001b[0m\u001b[0m\n\u001b[1;32m     81\u001b[0m     logging.warning(\n",
      "\u001b[0;31mValueError\u001b[0m: No gradients provided for any variable: ['Variable:0']."
     ]
    }
   ],
   "source": [
    "# Define and train model for hermitian metric\n",
    "hermitian_met = Hermitian_metric_O1(3, 1, [])\n",
    "print(\"Hermitian metric G network defined\")\n",
    "c1 = tf.constant(1., shape=(1000), dtype=tf.complex64)\n",
    "optimizer = tf.keras.optimizers.Adam()\n",
    "loss_func = weighted_MAPE \n",
    "loss_hist = []\n",
    "max_epochs = 100 \n",
    "epoch = 0\n",
    "#print(\"Beginning training\")\n",
    "while epoch < max_epochs:\n",
    "    epoch = epoch + 1\n",
    "    for step, (points, Omega_Omegabar, mass, restriction) in enumerate(train_set):\n",
    "        with tf.GradientTape() as tape:\n",
    "            # det_omega = nf.volume_form(points, Omega_Omegabar, mass, restriction, kahler_pot)\n",
    "            curv_tr = curvature_trace(points, kahler_pot, hermitian_met, mass)\n",
    "            #print(\"calculate curv_tr: \", curv_tr)\n",
    "            #print(\"c1: \", c1)\n",
    "            loss = loss_func(curv_tr, c1, mass)\n",
    "            grads = tape.gradient(loss, hermitian_met.trainable_weights)\n",
    "        optimizer.apply_gradients(zip(grads, hermitian_met.trainable_weights))\n",
    "    #if epoch % 50 == 0:\n",
    "    #    print(\"epoch %d: loss = %.7f\" % (epoch, loss))\n",
    "    loss_hist.append(loss)\n",
    "    hermitian_met.append_loss(loss)\n",
    "    print(\"epoch %d: loss = %.7f\" % (epoch, loss))"
   ]
  },
  {
   "cell_type": "code",
   "execution_count": 22,
   "metadata": {
    "ExecuteTime": {
     "end_time": "2021-02-19T18:21:31.860951Z",
     "start_time": "2021-02-19T18:21:29.533671Z"
    },
    "hidden": true
   },
   "outputs": [
    {
     "name": "stdout",
     "output_type": "stream",
     "text": [
      "Final loss:  ListWrapper([<tf.Tensor: shape=(), dtype=float32, numpy=2122.4229>])\n"
     ]
    },
    {
     "data": {
      "image/png": "[encoded data removed]",
      "text/plain": [
       "<Figure size 800x400 with 1 Axes>"
      ]
     },
     "metadata": {},
     "output_type": "display_data"
    }
   ],
   "source": [
    "plot_train_hist(hermitian_met, y_scale='log')"
   ]
  },
  {
   "cell_type": "markdown",
   "metadata": {},
   "source": [
    "## O(2) -- 2 layer network"
   ]
  },
  {
   "cell_type": "markdown",
   "metadata": {},
   "source": [
    "Trains well, but performance seems random -- should run for longer, e.g. 500 or 1000 rounds"
   ]
  },
  {
   "cell_type": "code",
   "execution_count": 78,
   "metadata": {
    "ExecuteTime": {
     "end_time": "2021-02-23T13:50:25.695922Z",
     "start_time": "2021-02-23T13:42:14.198135Z"
    }
   },
   "outputs": [
    {
     "name": "stdout",
     "output_type": "stream",
     "text": [
      "Bundle rank 1\n",
      "Hermitian metric G network defined\n",
      "epoch 1: loss = 0.4152077\n",
      "epoch 2: loss = 0.2462641\n",
      "epoch 3: loss = 0.2157634\n",
      "epoch 4: loss = 0.2029460\n",
      "epoch 5: loss = 0.1592798\n",
      "epoch 6: loss = 0.1958732\n",
      "epoch 7: loss = 0.1837285\n",
      "epoch 8: loss = 0.1640707\n",
      "epoch 9: loss = 0.1950198\n",
      "epoch 10: loss = 0.1634691\n",
      "epoch 11: loss = 0.1747584\n",
      "epoch 12: loss = 0.1678677\n",
      "epoch 13: loss = 0.1574437\n",
      "epoch 14: loss = 0.2061749\n",
      "epoch 15: loss = 0.1732367\n",
      "epoch 16: loss = 0.1668803\n",
      "epoch 17: loss = 0.1582795\n",
      "epoch 18: loss = 0.1635014\n",
      "epoch 19: loss = 0.1616841\n",
      "epoch 20: loss = 0.1654822\n",
      "epoch 21: loss = 0.1670287\n",
      "epoch 22: loss = 0.1636321\n",
      "epoch 23: loss = 0.1820322\n",
      "epoch 24: loss = 0.1637284\n",
      "epoch 25: loss = 0.1720325\n",
      "epoch 26: loss = 0.1514293\n",
      "epoch 27: loss = 0.1605239\n",
      "epoch 28: loss = 0.1696578\n",
      "epoch 29: loss = 0.1583610\n",
      "epoch 30: loss = 0.1473488\n",
      "epoch 31: loss = 0.1604525\n",
      "epoch 32: loss = 0.1580834\n",
      "epoch 33: loss = 0.1633692\n",
      "epoch 34: loss = 0.1609171\n",
      "epoch 35: loss = 0.1836044\n",
      "epoch 36: loss = 0.1642265\n",
      "epoch 37: loss = 0.1588560\n",
      "epoch 38: loss = 0.1647543\n",
      "epoch 39: loss = 0.1517842\n",
      "epoch 40: loss = 0.1552927\n",
      "epoch 41: loss = 0.1568677\n",
      "epoch 42: loss = 0.1402328\n",
      "epoch 43: loss = 0.1615713\n",
      "epoch 44: loss = 0.1630237\n",
      "epoch 45: loss = 0.1486375\n",
      "epoch 46: loss = 0.1712829\n",
      "epoch 47: loss = 0.1532562\n",
      "epoch 48: loss = 0.1557781\n",
      "epoch 49: loss = 0.1661922\n",
      "epoch 50: loss = 0.1530470\n",
      "epoch 51: loss = 0.1532053\n",
      "epoch 52: loss = 0.1743845\n",
      "epoch 53: loss = 0.1548539\n",
      "epoch 54: loss = 0.1685710\n",
      "epoch 55: loss = 0.1619197\n",
      "epoch 56: loss = 0.1535957\n",
      "epoch 57: loss = 0.1616617\n",
      "epoch 58: loss = 0.1587730\n",
      "epoch 59: loss = 0.1586005\n",
      "epoch 60: loss = 0.1597009\n",
      "epoch 61: loss = 0.1639083\n",
      "epoch 62: loss = 0.1620317\n",
      "epoch 63: loss = 0.1629054\n",
      "epoch 64: loss = 0.1610493\n",
      "epoch 65: loss = 0.1590642\n",
      "epoch 66: loss = 0.1519802\n",
      "epoch 67: loss = 0.1624671\n",
      "epoch 68: loss = 0.1541019\n",
      "epoch 69: loss = 0.1813453\n",
      "epoch 70: loss = 0.1562000\n",
      "epoch 71: loss = 0.1617375\n",
      "epoch 72: loss = 0.1674788\n",
      "epoch 73: loss = 0.1639657\n",
      "epoch 74: loss = 0.1533313\n",
      "epoch 75: loss = 0.1571904\n",
      "epoch 76: loss = 0.1549140\n",
      "epoch 77: loss = 0.1695131\n",
      "epoch 78: loss = 0.1573561\n",
      "epoch 79: loss = 0.1631309\n",
      "epoch 80: loss = 0.1628431\n",
      "epoch 81: loss = 0.1505865\n",
      "epoch 82: loss = 0.1560065\n",
      "epoch 83: loss = 0.1543439\n",
      "epoch 84: loss = 0.1588728\n",
      "epoch 85: loss = 0.1607314\n",
      "epoch 86: loss = 0.1547090\n",
      "epoch 87: loss = 0.1569202\n",
      "epoch 88: loss = 0.1476556\n",
      "epoch 89: loss = 0.1576844\n",
      "epoch 90: loss = 0.1688253\n",
      "epoch 91: loss = 0.1504010\n",
      "epoch 92: loss = 0.1534875\n",
      "epoch 93: loss = 0.1515639\n",
      "epoch 94: loss = 0.1562007\n",
      "epoch 95: loss = 0.1651022\n",
      "epoch 96: loss = 0.1643992\n",
      "epoch 97: loss = 0.1618128\n",
      "epoch 98: loss = 0.1546837\n",
      "epoch 99: loss = 0.1527925\n",
      "epoch 100: loss = 0.1575306\n"
     ]
    }
   ],
   "source": [
    "# Define and train model for hermitian metric\n",
    "hermitian_met = Hermitian_metric_O2(3, 1, [100])\n",
    "print(\"Hermitian metric G network defined\")\n",
    "c1 = tf.constant(2., shape=(1000), dtype=tf.complex64)\n",
    "optimizer = tf.keras.optimizers.Adam()\n",
    "loss_func = weighted_loss  \n",
    "loss_hist = []\n",
    "max_epochs = 100 \n",
    "epoch = 0\n",
    "#print(\"Beginning training\")\n",
    "while epoch < max_epochs:\n",
    "    epoch = epoch + 1\n",
    "    # print(\"epoch: \", epoch)\n",
    "    for step, (points, Omega_Omegabar, mass, restriction) in enumerate(train_set):\n",
    "        # print(\"mass: \", mass)\n",
    "        with tf.GradientTape() as tape:\n",
    "            curv_tr = curvature_trace(points, kahler_pot, hermitian_met, mass)\n",
    "            loss = loss_func(c1, curv_tr, mass) \n",
    "            grads = tape.gradient(loss, hermitian_met.trainable_weights)\n",
    "        optimizer.apply_gradients(zip(grads, hermitian_met.trainable_weights))\n",
    "    #if epoch % 50 == 0:\n",
    "    #    print(\"epoch %d: loss = %.7f\" % (epoch, loss))\n",
    "    loss_hist.append(loss)\n",
    "    hermitian_met.append_loss(loss)\n",
    "    print(\"epoch %d: loss = %.7f\" % (epoch, loss))"
   ]
  },
  {
   "cell_type": "code",
   "execution_count": 79,
   "metadata": {
    "ExecuteTime": {
     "end_time": "2021-02-23T13:50:30.165393Z",
     "start_time": "2021-02-23T13:50:25.699471Z"
    }
   },
   "outputs": [
    {
     "name": "stdout",
     "output_type": "stream",
     "text": [
      "Final loss:  ListWrapper([<tf.Tensor: shape=(), dtype=float32, numpy=0.15753059>])\n"
     ]
    },
    {
     "data": {
      "image/png": "[encoded data removed]",
      "text/plain": [
       "<Figure size 800x400 with 1 Axes>"
      ]
     },
     "metadata": {},
     "output_type": "display_data"
    }
   ],
   "source": [
    "plot_train_hist(hermitian_met, y_scale='log')"
   ]
  },
  {
   "cell_type": "markdown",
   "metadata": {},
   "source": [
    "Validation/test data"
   ]
  },
  {
   "cell_type": "code",
   "execution_count": 85,
   "metadata": {
    "ExecuteTime": {
     "end_time": "2021-02-23T14:01:02.356864Z",
     "start_time": "2021-02-23T14:01:00.551599Z"
    }
   },
   "outputs": [
    {
     "data": {
      "text/plain": [
       "0.15755129"
      ]
     },
     "execution_count": 85,
     "metadata": {},
     "output_type": "execute_result"
    }
   ],
   "source": [
    "cal_total_loss(test_set, hermitian_met, kahler_pot, weighted_loss, c1)"
   ]
  },
  {
   "cell_type": "markdown",
   "metadata": {},
   "source": [
    "## O(4) -- 3 layer network"
   ]
  },
  {
   "cell_type": "markdown",
   "metadata": {},
   "source": [
    "Seems to train reasonably well compared to the others, "
   ]
  },
  {
   "cell_type": "code",
   "execution_count": 87,
   "metadata": {
    "ExecuteTime": {
     "end_time": "2021-02-23T14:11:18.046355Z",
     "start_time": "2021-02-23T14:03:12.417987Z"
    }
   },
   "outputs": [
    {
     "name": "stdout",
     "output_type": "stream",
     "text": [
      "Bundle rank 1\n",
      "Hermitian metric G network defined\n",
      "epoch 1: loss = 16.1619701\n",
      "epoch 2: loss = 16.0926819\n",
      "epoch 3: loss = 15.7837143\n",
      "epoch 4: loss = 15.8820648\n",
      "epoch 5: loss = 15.2283545\n",
      "epoch 6: loss = 13.9912577\n",
      "epoch 7: loss = 14.4588242\n",
      "epoch 8: loss = 14.9011517\n",
      "epoch 9: loss = 12.0699596\n",
      "epoch 10: loss = 10.6898298\n",
      "epoch 11: loss = 9.9705009\n",
      "epoch 12: loss = 9.4152222\n",
      "epoch 13: loss = 8.1927567\n",
      "epoch 14: loss = 8.4536619\n",
      "epoch 15: loss = 7.7269716\n",
      "epoch 16: loss = 7.8843541\n",
      "epoch 17: loss = 7.1163778\n",
      "epoch 18: loss = 7.0020380\n",
      "epoch 19: loss = 6.8990512\n",
      "epoch 20: loss = 6.7431631\n",
      "epoch 21: loss = 6.5468512\n",
      "epoch 22: loss = 6.4904361\n",
      "epoch 23: loss = 6.3272471\n",
      "epoch 24: loss = 5.8370357\n",
      "epoch 25: loss = 5.7695532\n",
      "epoch 26: loss = 5.4734135\n",
      "epoch 27: loss = 5.4484863\n",
      "epoch 28: loss = 5.5860062\n",
      "epoch 29: loss = 5.5218549\n",
      "epoch 30: loss = 4.9923086\n",
      "epoch 31: loss = 5.1361675\n",
      "epoch 32: loss = 5.0360775\n",
      "epoch 33: loss = 4.6790938\n",
      "epoch 34: loss = 4.6885009\n",
      "epoch 35: loss = 4.9743395\n",
      "epoch 36: loss = 5.0657535\n",
      "epoch 37: loss = 5.0638580\n",
      "epoch 38: loss = 4.9146247\n",
      "epoch 39: loss = 4.5109305\n",
      "epoch 40: loss = 4.4330177\n",
      "epoch 41: loss = 4.5572653\n",
      "epoch 42: loss = 4.4905415\n",
      "epoch 43: loss = 4.0743361\n",
      "epoch 44: loss = 4.4058719\n",
      "epoch 45: loss = 4.2345204\n",
      "epoch 46: loss = 4.1158266\n",
      "epoch 47: loss = 4.2447858\n",
      "epoch 48: loss = 4.0002770\n",
      "epoch 49: loss = 4.0262160\n",
      "epoch 50: loss = 4.4884753\n",
      "epoch 51: loss = 4.0712018\n",
      "epoch 52: loss = 3.9300516\n",
      "epoch 53: loss = 3.9105110\n",
      "epoch 54: loss = 3.6899264\n",
      "epoch 55: loss = 3.9316797\n",
      "epoch 56: loss = 3.5215936\n",
      "epoch 57: loss = 3.8225992\n",
      "epoch 58: loss = 3.6083593\n",
      "epoch 59: loss = 3.7701735\n",
      "epoch 60: loss = 3.6448138\n",
      "epoch 61: loss = 3.6074002\n",
      "epoch 62: loss = 3.5556650\n",
      "epoch 63: loss = 3.5611310\n",
      "epoch 64: loss = 3.5929937\n",
      "epoch 65: loss = 3.3116024\n",
      "epoch 66: loss = 3.2955284\n",
      "epoch 67: loss = 3.3489528\n",
      "epoch 68: loss = 3.2990873\n",
      "epoch 69: loss = 3.2215874\n",
      "epoch 70: loss = 3.0701132\n",
      "epoch 71: loss = 3.0362434\n",
      "epoch 72: loss = 2.9503191\n",
      "epoch 73: loss = 2.7335558\n",
      "epoch 74: loss = 2.6047492\n",
      "epoch 75: loss = 2.6860812\n",
      "epoch 76: loss = 2.7492003\n",
      "epoch 77: loss = 2.6220684\n",
      "epoch 78: loss = 2.4870026\n",
      "epoch 79: loss = 2.4642560\n",
      "epoch 80: loss = 2.5660193\n",
      "epoch 81: loss = 2.6012897\n",
      "epoch 82: loss = 2.3682883\n",
      "epoch 83: loss = 2.3888302\n",
      "epoch 84: loss = 2.2464018\n",
      "epoch 85: loss = 2.4468441\n",
      "epoch 86: loss = 2.2873759\n",
      "epoch 87: loss = 2.2114718\n",
      "epoch 88: loss = 2.3252013\n",
      "epoch 89: loss = 2.1820478\n",
      "epoch 90: loss = 2.2719176\n",
      "epoch 91: loss = 2.2330120\n",
      "epoch 92: loss = 2.0957034\n",
      "epoch 93: loss = 2.2080102\n",
      "epoch 94: loss = 2.0936234\n",
      "epoch 95: loss = 2.0373731\n",
      "epoch 96: loss = 1.9995277\n",
      "epoch 97: loss = 2.0893321\n",
      "epoch 98: loss = 1.9674196\n",
      "epoch 99: loss = 1.9463624\n",
      "epoch 100: loss = 1.8780022\n"
     ]
    }
   ],
   "source": [
    "# Define and train model for hermitian metric\n",
    "hermitian_met = Hermitian_metric_O4(3, 1, [10,100])\n",
    "print(\"Hermitian metric G network defined\")\n",
    "c1 = tf.constant(4., shape=(1000), dtype=tf.complex64)\n",
    "optimizer = tf.keras.optimizers.Adam()\n",
    "loss_func = weighted_loss \n",
    "max_epochs = 100 \n",
    "epoch = 0\n",
    "while epoch < max_epochs:\n",
    "    epoch = epoch + 1\n",
    "    for step, (points, Omega_Omegabar, mass, restriction) in enumerate(train_set):\n",
    "        with tf.GradientTape() as tape:\n",
    "            curv_tr = curvature_trace(points, kahler_pot, hermitian_met, mass)\n",
    "            #print(\"calculate curv_tr: \", curv_tr)\n",
    "            #print(\"c1: \", c1)\n",
    "            loss = loss_func(c1, curv_tr, mass) \n",
    "            # print(\"calculated loss: \", loss)\n",
    "            grads = tape.gradient(loss, hermitian_met.trainable_weights)\n",
    "        optimizer.apply_gradients(zip(grads, hermitian_met.trainable_weights))\n",
    "    #if epoch % 50 == 0:\n",
    "    #    print(\"epoch %d: loss = %.7f\" % (epoch, loss))\n",
    "    hermitian_met.append_loss(loss)\n",
    "    print(\"epoch %d: loss = %.7f\" % (epoch, loss))"
   ]
  },
  {
   "cell_type": "code",
   "execution_count": 88,
   "metadata": {
    "ExecuteTime": {
     "end_time": "2021-02-23T14:11:19.394848Z",
     "start_time": "2021-02-23T14:11:18.050149Z"
    }
   },
   "outputs": [
    {
     "name": "stdout",
     "output_type": "stream",
     "text": [
      "Final loss:  ListWrapper([<tf.Tensor: shape=(), dtype=float32, numpy=1.8780022>])\n"
     ]
    },
    {
     "data": {
      "image/png": "[encoded data removed]",
      "text/plain": [
       "<Figure size 800x400 with 1 Axes>"
      ]
     },
     "metadata": {},
     "output_type": "display_data"
    }
   ],
   "source": [
    "plot_train_hist(hermitian_met, y_scale='linear')"
   ]
  },
  {
   "cell_type": "markdown",
   "metadata": {},
   "source": [
    "Run this again and see:"
   ]
  },
  {
   "cell_type": "code",
   "execution_count": 10,
   "metadata": {
    "ExecuteTime": {
     "end_time": "2021-02-23T16:31:07.193257Z",
     "start_time": "2021-02-23T16:25:00.415143Z"
    },
    "scrolled": true
   },
   "outputs": [
    {
     "name": "stdout",
     "output_type": "stream",
     "text": [
      "Bundle rank 1\n",
      "Hermitian metric G network defined\n"
     ]
    },
    {
     "name": "stderr",
     "output_type": "stream",
     "text": [
      "/home/rehandeen/miniconda3/envs/ml/lib/python3.7/site-packages/tensorflow/python/framework/indexed_slices.py:437: UserWarning: Converting sparse IndexedSlices(IndexedSlices(indices=Tensor(\"gradients/boolean_mask/GatherV2_grad/Reshape_1:0\", shape=(None,), dtype=int64), values=Tensor(\"gradients/boolean_mask/GatherV2_grad/Reshape:0\", shape=(None, None), dtype=float32), dense_shape=Tensor(\"gradients/boolean_mask/GatherV2_grad/Cast:0\", shape=(2,), dtype=int32))) to a dense Tensor of unknown shape. This may consume a large amount of memory.\n",
      "  \"shape. This may consume a large amount of memory.\" % value)\n"
     ]
    },
    {
     "name": "stdout",
     "output_type": "stream",
     "text": [
      "epoch 1: loss = 5.9414091\n",
      "epoch 2: loss = 2.9912207\n",
      "epoch 3: loss = 1.9286295\n",
      "epoch 4: loss = 1.4754308\n",
      "epoch 5: loss = 1.1345481\n",
      "epoch 6: loss = 0.8580085\n",
      "epoch 7: loss = 0.6426318\n",
      "epoch 8: loss = 0.5624699\n",
      "epoch 9: loss = 0.4555495\n",
      "epoch 10: loss = 0.4347323\n",
      "epoch 11: loss = 0.3900386\n",
      "epoch 12: loss = 0.3674594\n",
      "epoch 13: loss = 0.3561155\n",
      "epoch 14: loss = 0.3214222\n",
      "epoch 15: loss = 0.3165632\n",
      "epoch 16: loss = 0.3131433\n",
      "epoch 17: loss = 0.2853901\n",
      "epoch 18: loss = 0.2570019\n",
      "epoch 19: loss = 0.2776822\n",
      "epoch 20: loss = 0.2827359\n",
      "epoch 21: loss = 0.2617073\n",
      "epoch 22: loss = 0.2341670\n",
      "epoch 23: loss = 0.2547054\n",
      "epoch 24: loss = 0.2430686\n",
      "epoch 25: loss = 0.2345116\n",
      "epoch 26: loss = 0.2305654\n",
      "epoch 27: loss = 0.2142126\n",
      "epoch 28: loss = 0.2433473\n",
      "epoch 29: loss = 0.2244129\n",
      "epoch 30: loss = 0.2143625\n",
      "epoch 31: loss = 0.2179560\n",
      "epoch 32: loss = 0.2081591\n",
      "epoch 33: loss = 0.1982332\n",
      "epoch 34: loss = 0.1954504\n",
      "epoch 35: loss = 0.2131920\n",
      "epoch 36: loss = 0.2015739\n",
      "epoch 37: loss = 0.2305093\n",
      "epoch 38: loss = 0.2124467\n",
      "epoch 39: loss = 0.2116215\n",
      "epoch 40: loss = 0.1979855\n",
      "epoch 41: loss = 0.1938309\n",
      "epoch 42: loss = 0.2130062\n",
      "epoch 43: loss = 0.1909731\n",
      "epoch 44: loss = 0.2037583\n",
      "epoch 45: loss = 0.1962481\n",
      "epoch 46: loss = 0.2046558\n",
      "epoch 47: loss = 0.1986602\n",
      "epoch 48: loss = 0.1911331\n",
      "epoch 49: loss = 0.1798316\n",
      "epoch 50: loss = 0.1768410\n",
      "epoch 51: loss = 0.2002125\n",
      "epoch 52: loss = 0.2017663\n",
      "epoch 53: loss = 0.1951674\n",
      "epoch 54: loss = 0.1897479\n",
      "epoch 55: loss = 0.1786035\n",
      "epoch 56: loss = 0.1803044\n",
      "epoch 57: loss = 0.2062528\n",
      "epoch 58: loss = 0.1966084\n",
      "epoch 59: loss = 0.1810085\n",
      "epoch 60: loss = 0.1676497\n",
      "epoch 61: loss = 0.1984845\n",
      "epoch 62: loss = 0.1697184\n",
      "epoch 63: loss = 0.1712710\n",
      "epoch 64: loss = 0.1984183\n",
      "epoch 65: loss = 0.1964389\n",
      "epoch 66: loss = 0.1868788\n",
      "epoch 67: loss = 0.1702623\n",
      "epoch 68: loss = 0.1956623\n",
      "epoch 69: loss = 0.2240686\n",
      "epoch 70: loss = 0.2086210\n",
      "epoch 71: loss = 0.2159848\n",
      "epoch 72: loss = 0.1615828\n",
      "epoch 73: loss = 0.1748370\n",
      "epoch 74: loss = 0.1797713\n",
      "epoch 75: loss = 0.2128903\n",
      "epoch 76: loss = 0.1500576\n",
      "epoch 77: loss = 0.2013763\n",
      "epoch 78: loss = 0.1964080\n",
      "epoch 79: loss = 0.1935637\n",
      "epoch 80: loss = 0.1775040\n",
      "epoch 81: loss = 0.1723057\n",
      "epoch 82: loss = 0.1678380\n",
      "epoch 83: loss = 0.1673890\n",
      "epoch 84: loss = 0.1701850\n",
      "epoch 85: loss = 0.1652300\n",
      "epoch 86: loss = 0.2372279\n",
      "epoch 87: loss = 0.1664793\n",
      "epoch 88: loss = 0.1644403\n",
      "epoch 89: loss = 0.1554614\n",
      "epoch 90: loss = 0.1628489\n",
      "epoch 91: loss = 0.1864470\n",
      "epoch 92: loss = 0.1729120\n",
      "epoch 93: loss = 0.1971722\n",
      "epoch 94: loss = 0.1625303\n",
      "epoch 95: loss = 0.1628306\n",
      "epoch 96: loss = 0.1592305\n",
      "epoch 97: loss = 0.1583232\n",
      "epoch 98: loss = 0.1645751\n",
      "epoch 99: loss = 0.1836185\n",
      "epoch 100: loss = 0.1767960\n"
     ]
    }
   ],
   "source": [
    "# Define and train model for hermitian metric\n",
    "hermitian_met = Hermitian_metric_O4(3, 1, [10,100])\n",
    "print(\"Hermitian metric G network defined\")\n",
    "c1 = tf.constant(4., shape=(1000), dtype=tf.complex64)\n",
    "optimizer = tf.keras.optimizers.Adam()\n",
    "loss_func = weighted_loss \n",
    "max_epochs = 100 \n",
    "epoch = 0\n",
    "while epoch < max_epochs:\n",
    "    epoch = epoch + 1\n",
    "    for step, (points, Omega_Omegabar, mass, restriction) in enumerate(train_set):\n",
    "        with tf.GradientTape() as tape:\n",
    "            curv_tr = curvature_trace(points, kahler_pot, hermitian_met, mass)\n",
    "            #print(\"calculate curv_tr: \", curv_tr)\n",
    "            #print(\"c1: \", c1)\n",
    "            loss = loss_func(c1, curv_tr, mass) \n",
    "            # print(\"calculated loss: \", loss)\n",
    "            grads = tape.gradient(loss, hermitian_met.trainable_weights)\n",
    "        optimizer.apply_gradients(zip(grads, hermitian_met.trainable_weights))\n",
    "    #if epoch % 50 == 0:\n",
    "    #    print(\"epoch %d: loss = %.7f\" % (epoch, loss))\n",
    "    hermitian_met.append_loss(loss)\n",
    "    print(\"epoch %d: loss = %.7f\" % (epoch, loss))"
   ]
  },
  {
   "cell_type": "code",
   "execution_count": 12,
   "metadata": {
    "ExecuteTime": {
     "end_time": "2021-02-23T16:31:43.686500Z",
     "start_time": "2021-02-23T16:31:42.985925Z"
    }
   },
   "outputs": [
    {
     "name": "stdout",
     "output_type": "stream",
     "text": [
      "Final loss:  ListWrapper([<tf.Tensor: shape=(), dtype=float32, numpy=0.176796>])\n"
     ]
    },
    {
     "data": {
      "image/png": "[encoded data removed]",
      "text/plain": [
       "<Figure size 800x400 with 1 Axes>"
      ]
     },
     "metadata": {},
     "output_type": "display_data"
    }
   ],
   "source": [
    "plot_train_hist(hermitian_met, y_scale='linear')"
   ]
  },
  {
   "cell_type": "markdown",
   "metadata": {},
   "source": [
    "Validation/test data"
   ]
  },
  {
   "cell_type": "code",
   "execution_count": 16,
   "metadata": {
    "ExecuteTime": {
     "end_time": "2021-02-23T16:37:45.193316Z",
     "start_time": "2021-02-23T16:37:44.170770Z"
    }
   },
   "outputs": [
    {
     "data": {
      "text/plain": [
       "0.17504025"
      ]
     },
     "execution_count": 16,
     "metadata": {},
     "output_type": "execute_result"
    }
   ],
   "source": [
    "cal_total_loss(test_set, hermitian_met, kahler_pot, weighted_loss, c1)"
   ]
  }
 ],
 "metadata": {
  "kernelspec": {
   "display_name": "Python 3",
   "language": "python",
   "name": "python3"
  },
  "language_info": {
   "codemirror_mode": {
    "name": "ipython",
    "version": 3
   },
   "file_extension": ".py",
   "mimetype": "text/x-python",
   "name": "python",
   "nbconvert_exporter": "python",
   "pygments_lexer": "ipython3",
   "version": "3.7.3"
  },
  "latex_envs": {
   "LaTeX_envs_menu_present": true,
   "autoclose": false,
   "autocomplete": true,
   "bibliofile": "biblio.bib",
   "cite_by": "apalike",
   "current_citInitial": 1,
   "eqLabelWithNumbers": true,
   "eqNumInitial": 1,
   "hotkeys": {
    "equation": "Ctrl-E",
    "itemize": "Ctrl-I"
   },
   "labels_anchors": false,
   "latex_user_defs": false,
   "report_style_numbering": false,
   "user_envs_cfg": false
  },
  "toc": {
   "base_numbering": 1,
   "nav_menu": {},
   "number_sections": true,
   "sideBar": true,
   "skip_h1_title": false,
   "title_cell": "Table of Contents",
   "title_sidebar": "Contents",
   "toc_cell": false,
   "toc_position": {
    "height": "47.25px",
    "left": "1278px",
    "top": "49.5333px",
    "width": "212px"
   },
   "toc_section_display": true,
   "toc_window_display": true
  }
 },
 "nbformat": 4,
 "nbformat_minor": 2
}
