{
 "cells": [
  {
   "cell_type": "code",
   "execution_count": 1,
   "metadata": {
    "ExecuteTime": {
     "end_time": "2021-02-23T14:14:42.393330Z",
     "start_time": "2021-02-23T14:14:28.870528Z"
    }
   },
   "outputs": [
    {
     "name": "stdout",
     "output_type": "stream",
     "text": [
      "Hello from BihomoNN! Arbitrary dimension!\n"
     ]
    }
   ],
   "source": [
    "import sympy as sp\n",
    "import tensorflow as tf\n",
    "import tensorflow.python.keras.backend as K\n",
    "import tensorflow_probability as tfp\n",
    "\n",
    "import MLGeometry as mlg\n",
    "from MLGeometry import bihomoNN as bnn\n",
    "\n",
    "import math\n",
    "import numpy as np\n",
    "import matplotlib.pyplot as plt\n",
    "from mpl_toolkits.mplot3d import Axes3D\n",
    "\n",
    "np.random.seed(42)\n",
    "tf.random.set_seed(42)"
   ]
  },
  {
   "cell_type": "code",
   "execution_count": 2,
   "metadata": {
    "ExecuteTime": {
     "end_time": "2021-02-23T14:14:42.410138Z",
     "start_time": "2021-02-23T14:14:42.396426Z"
    }
   },
   "outputs": [],
   "source": [
    "# Matplotlib options\n",
    "%matplotlib inline\n",
    "#%matplotlib notebook\n",
    "plt.style.use('dark_background')\n",
    "plt.rcParams['figure.dpi'] = 200\n",
    "plt.rcParams['figure.figsize'] = [4, 2]\n",
    "plt.rcParams['text.usetex'] = True"
   ]
  },
  {
   "cell_type": "markdown",
   "metadata": {},
   "source": [
    "## Modules"
   ]
  },
  {
   "cell_type": "code",
   "execution_count": 3,
   "metadata": {
    "ExecuteTime": {
     "end_time": "2021-02-23T14:14:47.791961Z",
     "start_time": "2021-02-23T14:14:47.744499Z"
    }
   },
   "outputs": [],
   "source": [
    "# Plot training get_loss_hist\n",
    "def plot_train_hist(model, val=False, y_scale='linear'):\n",
    "    x1 = np.arange(1, len(model.get_loss_hist())+1)\n",
    "    plt.scatter(x1, model.get_loss_hist(), marker='.', label='Training loss' )\n",
    "    #if val:\n",
    "    #    plt.scatter(x1, model.get_loss_hist['val_loss'], marker='.', label='Validation loss')\n",
    "    plt.xlabel('Training epochs')\n",
    "    plt.ylabel('Loss')\n",
    "    plt.yscale(y_scale)\n",
    "    plt.legend()\n",
    "    print(\"Final loss: \", model.get_loss_hist()[-1])\n",
    "    return plt.show()"
   ]
  },
  {
   "cell_type": "code",
   "execution_count": 4,
   "metadata": {
    "ExecuteTime": {
     "end_time": "2021-02-23T14:14:50.027518Z",
     "start_time": "2021-02-23T14:14:49.985475Z"
    }
   },
   "outputs": [],
   "source": [
    "def cal_total_loss(dataset, kahler_pot, loss_function, c1):\n",
    "    total_loss = tf.constant(0, dtype=tf.float32)\n",
    "    total_mass = tf.constant(0, dtype=tf.float32)\n",
    "    \n",
    "    for step, (points, Omega_Omegabar, mass, restriction) in enumerate(dataset):\n",
    "        curv_tr = curvature_trace(points, kahler_pot, hermitian_met, mass)\n",
    "        mass_sum = tf.reduce_sum(mass)\n",
    "        total_loss += loss_func(c1, curv_tr, mass)  * mass_sum\n",
    "        total_mass += mass_sum\n",
    "    total_loss = total_loss / total_mass\n",
    "\n",
    "    return total_loss.numpy()\n",
    "\n"
   ]
  },
  {
   "cell_type": "markdown",
   "metadata": {},
   "source": [
    "Networks for $\\mathcal{O}_X(1)$, $\\mathcal{O}_X(2)$, $\\mathcal{O}_X(4)$ respectively.\n",
    "\n",
    "\\begin{itemize}\n",
    "\\item \"dim\" is the number of projective coordinates of points on the CY hypersurface.\n",
    "\\item \"vec\" is a vector giving the number of neurons for layers 1 through d-1\n",
    "\\item \"rank\" is the rank of the vector bundle -- so far should just be 1\n",
    "\\end{itemize}"
   ]
  },
  {
   "cell_type": "code",
   "execution_count": 5,
   "metadata": {
    "ExecuteTime": {
     "end_time": "2021-02-23T14:14:52.724846Z",
     "start_time": "2021-02-23T14:14:52.606859Z"
    }
   },
   "outputs": [],
   "source": [
    "class Hermitian_metric_O1(tf.keras.Model):\n",
    "    def __init__(self, dim, rank, vec):\n",
    "        super(Hermitian_metric_O1, self).__init__()\n",
    "        self.dim = dim\n",
    "        self.rank = rank\n",
    "        self.vec = vec\n",
    "        self.loss_hist = []\n",
    "        print(\"Bundle rank\", self.rank)\n",
    "        self.bihomogeneous = bnn.Bihomogeneous(self.dim)\n",
    "        self.layer1 = bnn.Dense(self.dim**2, self.rank)\n",
    "    \n",
    "    def append_loss(self, loss):\n",
    "        self.loss_hist.append([loss])\n",
    "    \n",
    "    def get_loss_hist(self):\n",
    "        return self.loss_hist\n",
    "    \n",
    "    def call(self, inputs):\n",
    "        x = self.bihomogeneous(inputs)\n",
    "        x = tf.math.log(x)\n",
    "        return x\n",
    "    \n",
    "\n",
    "class Hermitian_metric_O2(tf.keras.Model):\n",
    "    def __init__(self, dim, rank, vec):\n",
    "        super(Hermitian_metric_O2, self).__init__()\n",
    "        self.dim = dim\n",
    "        self.rank = rank\n",
    "        self.vec = vec\n",
    "        self.loss_hist = []\n",
    "        print(\"Bundle rank\", self.rank)\n",
    "        self.bihomogeneous = bnn.Bihomogeneous(self.dim)\n",
    "        self.layer1 = bnn.Dense(self.dim**2, self.vec[0], activation=tf.square)\n",
    "        self.layer2 = bnn.Dense(self.vec[0], self.rank)\n",
    "        \n",
    "    def append_loss(self, loss):\n",
    "        self.loss_hist.append([loss])\n",
    "    \n",
    "    def get_loss_hist(self):\n",
    "        return self.loss_hist\n",
    "    \n",
    "    def call(self, inputs):\n",
    "        x = self.bihomogeneous(inputs)\n",
    "        x = self.layer1(x)\n",
    "        x = self.layer2(x)\n",
    "        x = tf.math.log(x)\n",
    "        return x\n",
    "  \n",
    "\n",
    "class Hermitian_metric_O4(tf.keras.Model):\n",
    "    def __init__(self, dim, rank, vec):\n",
    "        super(Hermitian_metric_O4, self).__init__()\n",
    "        self.dim = dim\n",
    "        self.rank = rank\n",
    "        self.vec = vec\n",
    "        self.loss_hist = []\n",
    "        print(\"Bundle rank\", self.rank)\n",
    "        self.bihomogeneous = bnn.Bihomogeneous(self.dim)\n",
    "        self.layer1 = bnn.Dense(dim**2, self.vec[0], activation=tf.square)\n",
    "        self.layer2 = bnn.Dense(self.vec[0], self.vec[1], activation=tf.square)\n",
    "        self.layer3 = bnn.Dense(self.vec[1], self.rank)\n",
    "    \n",
    "    def append_loss(self, loss):\n",
    "        self.loss_hist.append([loss])\n",
    "    \n",
    "    def get_loss_hist(self):\n",
    "        return self.loss_hist\n",
    "    \n",
    "    def call(self, inputs):\n",
    "        x = self.bihomogeneous(inputs)\n",
    "        x = self.layer1(x)\n",
    "        x = self.layer2(x)\n",
    "        x = self.layer3(x)\n",
    "        x = tf.math.log(x)\n",
    "        return x"
   ]
  },
  {
   "cell_type": "markdown",
   "metadata": {},
   "source": [
    "## Curvature calculation"
   ]
  },
  {
   "cell_type": "markdown",
   "metadata": {},
   "source": [
    "\\begin{itemize}\n",
    "\\item Issue with normalization needs to be fixed here, in weighted_loss\n",
    "\\item Other issue is taking inverse of K\\\"ahler metric or curvature tensor when calculating $g^{i\\bar{j}} F_{i\\bar{j}}$\n",
    "\\end{itemize}"
   ]
  },
  {
   "cell_type": "code",
   "execution_count": 6,
   "metadata": {
    "ExecuteTime": {
     "end_time": "2021-02-23T14:14:55.472368Z",
     "start_time": "2021-02-23T14:14:55.430123Z"
    }
   },
   "outputs": [],
   "source": [
    "def weighted_MAPE(y_true, y_pred, mass):\n",
    "    weights = mass / K.sum(mass)\n",
    "    return K.sum(K.abs(y_true - y_pred) / tf.cast(y_true, tf.float32) * weights)\n",
    "\n",
    "def weighted_loss(y_true, y_pred, mass):\n",
    "    weights = mass /K.sum(mass)\n",
    "    #print(4\"loss1:\", K.sum( K.abs(y_pred - y_true) * weights))\n",
    "    #print(\"loss2:\", K.sum( K.abs(y_pred - y_true) * weights) / K.sum(weights))\n",
    "    #return K.abs( K.sum( (y_pred - y_true) * weights) ) / K.sum(weights) \n",
    "    return K.sum( K.abs(y_pred - y_true) * weights) / K.sum(weights)\n",
    "\n",
    "@tf.function\n",
    "def curvature_trace(points, hermitian_met, kahler_pot, herm_metric, mass):\n",
    "    kahler_metric = mlg.complex_math.complex_hessian(tf.math.real(kahler_pot(points)), points)\n",
    "    #print(\"kahler_metric: \", kahler_metric)\n",
    "    #inv_kahler_metric = tf.linalg.inv(kahler_metric)\n",
    "    #print(\"inverse kahler_metric: \", inv_kahler_metric)\n",
    "    curvature = mlg.complex_math.complex_hessian(tf.math.real(herm_metric(points)), points)\n",
    "    #print(\"curvature\", curvature)\n",
    "    #inv_curvature = tf.linalg.inv(curvature)\n",
    "    curvature_trace = tf.linalg.trace(tf.matmul(kahler_metric, curvature) )\n",
    "    # print(\"contraction\", tf.matmul(kahler_metric, curvature) )\n",
    "    # print(\"curvature_trace: \", curvature_trace)\n",
    "    return curvature_trace\n"
   ]
  },
  {
   "cell_type": "markdown",
   "metadata": {},
   "source": [
    "## Generate points and load Kahler potential network"
   ]
  },
  {
   "cell_type": "code",
   "execution_count": 7,
   "metadata": {
    "ExecuteTime": {
     "end_time": "2021-02-23T14:15:06.319926Z",
     "start_time": "2021-02-23T14:15:05.478592Z"
    }
   },
   "outputs": [
    {
     "data": {
      "text/latex": [
       "$\\displaystyle z_{0}^{4} + 0.5 z_{0} z_{1} z_{2} z_{3} + z_{1}^{4} + z_{2}^{4} + z_{3}^{4}$"
      ],
      "text/plain": [
       "z0**4 + 0.5*z0*z1*z2*z3 + z1**4 + z2**4 + z3**4"
      ]
     },
     "execution_count": 7,
     "metadata": {},
     "output_type": "execute_result"
    }
   ],
   "source": [
    "# Define K3 surface\n",
    "z0, z1, z2, z3 = sp.symbols('z0, z1, z2, z3')\n",
    "Z = [z0, z1, z2, z3]\n",
    "f = z0**4 + z1**4 + z2**4 + z3**4 + 0.5*z0*z1*z2*z3\n",
    "#f = z0**4 + z1**4 + z2**4 + z3**4 # Switch to Fermat surface\n",
    "f"
   ]
  },
  {
   "cell_type": "code",
   "execution_count": 8,
   "metadata": {
    "ExecuteTime": {
     "end_time": "2021-02-23T14:16:14.884827Z",
     "start_time": "2021-02-23T14:15:07.429250Z"
    }
   },
   "outputs": [],
   "source": [
    "# Create training and testing set\n",
    "n_pairs = 10000\n",
    "HS_train = mlg.hypersurface.Hypersurface(Z, f, n_pairs)\n",
    "HS_test = mlg.hypersurface.Hypersurface(Z, f, n_pairs)\n",
    "train_set = mlg.tf_dataset.generate_dataset(HS_train)\n",
    "test_set = mlg.tf_dataset.generate_dataset(HS_test)\n",
    "train_set = train_set.shuffle(HS_train.n_points).batch(1000)\n",
    "test_set = test_set.shuffle(HS_test.n_points).batch(1000)"
   ]
  },
  {
   "cell_type": "code",
   "execution_count": 9,
   "metadata": {
    "ExecuteTime": {
     "end_time": "2021-02-23T14:16:15.175248Z",
     "start_time": "2021-02-23T14:16:14.888006Z"
    }
   },
   "outputs": [
    {
     "name": "stdout",
     "output_type": "stream",
     "text": [
      "WARNING:tensorflow:No training configuration found in save file, so the model was *not* compiled. Compile it manually.\n"
     ]
    }
   ],
   "source": [
    "# Load CY metric/Kahler potential\n",
    "kahler_pot = tf.keras.models.load_model(\"K3_2_kahler_pot\")\n",
    "# kahler_pot = tf.keras.models.load_model(\"K3_fermat_kahler_pot\") # Switch to fermat curve"
   ]
  },
  {
   "cell_type": "markdown",
   "metadata": {},
   "source": [
    "## O(1)"
   ]
  },
  {
   "cell_type": "markdown",
   "metadata": {},
   "source": [
    "This has stopped working due to no gradients occuring - $\\mathcal{O}_X(2)$ is the first that works"
   ]
  },
  {
   "cell_type": "code",
   "execution_count": 20,
   "metadata": {
    "ExecuteTime": {
     "end_time": "2021-02-23T14:47:54.717203Z",
     "start_time": "2021-02-23T14:47:33.235810Z"
    },
    "scrolled": false
   },
   "outputs": [
    {
     "name": "stdout",
     "output_type": "stream",
     "text": [
      "Bundle rank 1\n",
      "Hermitian metric G network defined\n"
     ]
    },
    {
     "ename": "ValueError",
     "evalue": "No gradients provided for any variable: ['Variable:0'].",
     "output_type": "error",
     "traceback": [
      "\u001b[0;31m---------------------------------------------------------------------------\u001b[0m",
      "\u001b[0;31mValueError\u001b[0m                                Traceback (most recent call last)",
      "\u001b[0;32m<ipython-input-20-2e892a1c0eb0>\u001b[0m in \u001b[0;36m<module>\u001b[0;34m\u001b[0m\n\u001b[1;32m     19\u001b[0m             \u001b[0mloss\u001b[0m \u001b[0;34m=\u001b[0m \u001b[0mloss_func\u001b[0m\u001b[0;34m(\u001b[0m\u001b[0mcurv_tr\u001b[0m\u001b[0;34m,\u001b[0m \u001b[0mc1\u001b[0m\u001b[0;34m,\u001b[0m \u001b[0mmass\u001b[0m\u001b[0;34m)\u001b[0m\u001b[0;34m\u001b[0m\u001b[0;34m\u001b[0m\u001b[0m\n\u001b[1;32m     20\u001b[0m             \u001b[0mgrads\u001b[0m \u001b[0;34m=\u001b[0m \u001b[0mtape\u001b[0m\u001b[0;34m.\u001b[0m\u001b[0mgradient\u001b[0m\u001b[0;34m(\u001b[0m\u001b[0mloss\u001b[0m\u001b[0;34m,\u001b[0m \u001b[0mhermitian_met\u001b[0m\u001b[0;34m.\u001b[0m\u001b[0mtrainable_weights\u001b[0m\u001b[0;34m)\u001b[0m\u001b[0;34m\u001b[0m\u001b[0;34m\u001b[0m\u001b[0m\n\u001b[0;32m---> 21\u001b[0;31m         \u001b[0moptimizer\u001b[0m\u001b[0;34m.\u001b[0m\u001b[0mapply_gradients\u001b[0m\u001b[0;34m(\u001b[0m\u001b[0mzip\u001b[0m\u001b[0;34m(\u001b[0m\u001b[0mgrads\u001b[0m\u001b[0;34m,\u001b[0m \u001b[0mhermitian_met\u001b[0m\u001b[0;34m.\u001b[0m\u001b[0mtrainable_weights\u001b[0m\u001b[0;34m)\u001b[0m\u001b[0;34m)\u001b[0m\u001b[0;34m\u001b[0m\u001b[0;34m\u001b[0m\u001b[0m\n\u001b[0m\u001b[1;32m     22\u001b[0m     \u001b[0;31m#if epoch % 50 == 0:\u001b[0m\u001b[0;34m\u001b[0m\u001b[0;34m\u001b[0m\u001b[0;34m\u001b[0m\u001b[0m\n\u001b[1;32m     23\u001b[0m     \u001b[0;31m#    print(\"epoch %d: loss = %.7f\" % (epoch, loss))\u001b[0m\u001b[0;34m\u001b[0m\u001b[0;34m\u001b[0m\u001b[0;34m\u001b[0m\u001b[0m\n",
      "\u001b[0;32m~/miniconda3/envs/ml/lib/python3.7/site-packages/tensorflow/python/keras/optimizer_v2/optimizer_v2.py\u001b[0m in \u001b[0;36mapply_gradients\u001b[0;34m(self, grads_and_vars, name, experimental_aggregate_gradients)\u001b[0m\n\u001b[1;32m    596\u001b[0m       \u001b[0mRuntimeError\u001b[0m\u001b[0;34m:\u001b[0m \u001b[0mIf\u001b[0m \u001b[0mcalled\u001b[0m \u001b[0;32min\u001b[0m \u001b[0ma\u001b[0m \u001b[0mcross\u001b[0m\u001b[0;34m-\u001b[0m\u001b[0mreplica\u001b[0m \u001b[0mcontext\u001b[0m\u001b[0;34m.\u001b[0m\u001b[0;34m\u001b[0m\u001b[0;34m\u001b[0m\u001b[0m\n\u001b[1;32m    597\u001b[0m     \"\"\"\n\u001b[0;32m--> 598\u001b[0;31m     \u001b[0mgrads_and_vars\u001b[0m \u001b[0;34m=\u001b[0m \u001b[0moptimizer_utils\u001b[0m\u001b[0;34m.\u001b[0m\u001b[0mfilter_empty_gradients\u001b[0m\u001b[0;34m(\u001b[0m\u001b[0mgrads_and_vars\u001b[0m\u001b[0;34m)\u001b[0m\u001b[0;34m\u001b[0m\u001b[0;34m\u001b[0m\u001b[0m\n\u001b[0m\u001b[1;32m    599\u001b[0m     \u001b[0mvar_list\u001b[0m \u001b[0;34m=\u001b[0m \u001b[0;34m[\u001b[0m\u001b[0mv\u001b[0m \u001b[0;32mfor\u001b[0m \u001b[0;34m(\u001b[0m\u001b[0m_\u001b[0m\u001b[0;34m,\u001b[0m \u001b[0mv\u001b[0m\u001b[0;34m)\u001b[0m \u001b[0;32min\u001b[0m \u001b[0mgrads_and_vars\u001b[0m\u001b[0;34m]\u001b[0m\u001b[0;34m\u001b[0m\u001b[0;34m\u001b[0m\u001b[0m\n\u001b[1;32m    600\u001b[0m \u001b[0;34m\u001b[0m\u001b[0m\n",
      "\u001b[0;32m~/miniconda3/envs/ml/lib/python3.7/site-packages/tensorflow/python/keras/optimizer_v2/utils.py\u001b[0m in \u001b[0;36mfilter_empty_gradients\u001b[0;34m(grads_and_vars)\u001b[0m\n\u001b[1;32m     77\u001b[0m   \u001b[0;32mif\u001b[0m \u001b[0;32mnot\u001b[0m \u001b[0mfiltered\u001b[0m\u001b[0;34m:\u001b[0m\u001b[0;34m\u001b[0m\u001b[0;34m\u001b[0m\u001b[0m\n\u001b[1;32m     78\u001b[0m     raise ValueError(\"No gradients provided for any variable: %s.\" %\n\u001b[0;32m---> 79\u001b[0;31m                      ([v.name for _, v in grads_and_vars],))\n\u001b[0m\u001b[1;32m     80\u001b[0m   \u001b[0;32mif\u001b[0m \u001b[0mvars_with_empty_grads\u001b[0m\u001b[0;34m:\u001b[0m\u001b[0;34m\u001b[0m\u001b[0;34m\u001b[0m\u001b[0m\n\u001b[1;32m     81\u001b[0m     logging.warning(\n",
      "\u001b[0;31mValueError\u001b[0m: No gradients provided for any variable: ['Variable:0']."
     ]
    }
   ],
   "source": [
    "# Define and train model for hermitian metric\n",
    "hermitian_met = Hermitian_metric_O1(4, 1, [])\n",
    "print(\"Hermitian metric G network defined\")\n",
    "c1 = tf.constant(1., shape=(1000), dtype=tf.complex64)\n",
    "optimizer = tf.keras.optimizers.Adam()\n",
    "loss_func = weighted_MAPE \n",
    "loss_hist = []\n",
    "max_epochs = 100 \n",
    "epoch = 0\n",
    "#print(\"Beginning training\")\n",
    "while epoch < max_epochs:\n",
    "    epoch = epoch + 1\n",
    "    for step, (points, Omega_Omegabar, mass, restriction) in enumerate(train_set):\n",
    "        with tf.GradientTape() as tape:\n",
    "            # det_omega = nf.volume_form(points, Omega_Omegabar, mass, restriction, kahler_pot)\n",
    "            curv_tr = curvature_trace(points, kahler_pot, hermitian_met, mass)\n",
    "            #print(\"calculate curv_tr: \", curv_tr)\n",
    "            #print(\"c1: \", c1)\n",
    "            loss = loss_func(curv_tr, c1, mass)\n",
    "            grads = tape.gradient(loss, hermitian_met.trainable_weights)\n",
    "        optimizer.apply_gradients(zip(grads, hermitian_met.trainable_weights))\n",
    "    #if epoch % 50 == 0:\n",
    "    #    print(\"epoch %d: loss = %.7f\" % (epoch, loss))\n",
    "    loss_hist.append(loss)\n",
    "    hermitian_met.append_loss(loss)\n",
    "    print(\"epoch %d: loss = %.7f\" % (epoch, loss))"
   ]
  },
  {
   "cell_type": "code",
   "execution_count": 22,
   "metadata": {
    "ExecuteTime": {
     "end_time": "2021-02-19T18:21:31.860951Z",
     "start_time": "2021-02-19T18:21:29.533671Z"
    }
   },
   "outputs": [
    {
     "name": "stdout",
     "output_type": "stream",
     "text": [
      "Final loss:  ListWrapper([<tf.Tensor: shape=(), dtype=float32, numpy=2122.4229>])\n"
     ]
    },
    {
     "data": {
      "image/png": "[encoded data removed]",
      "text/plain": [
       "<Figure size 800x400 with 1 Axes>"
      ]
     },
     "metadata": {},
     "output_type": "display_data"
    }
   ],
   "source": [
    "plot_train_hist(hermitian_met, y_scale='log')"
   ]
  },
  {
   "cell_type": "markdown",
   "metadata": {
    "heading_collapsed": true
   },
   "source": [
    "## O(2) -- 2 layer network"
   ]
  },
  {
   "cell_type": "code",
   "execution_count": 10,
   "metadata": {
    "ExecuteTime": {
     "end_time": "2021-02-23T14:31:12.180131Z",
     "start_time": "2021-02-23T14:16:15.180995Z"
    },
    "hidden": true
   },
   "outputs": [
    {
     "name": "stdout",
     "output_type": "stream",
     "text": [
      "Bundle rank 1\n",
      "Hermitian metric G network defined\n"
     ]
    },
    {
     "name": "stderr",
     "output_type": "stream",
     "text": [
      "/home/rehandeen/miniconda3/envs/ml/lib/python3.7/site-packages/tensorflow/python/framework/indexed_slices.py:437: UserWarning: Converting sparse IndexedSlices(IndexedSlices(indices=Tensor(\"gradients/boolean_mask/GatherV2_grad/Reshape_1:0\", shape=(None,), dtype=int64), values=Tensor(\"gradients/boolean_mask/GatherV2_grad/Reshape:0\", shape=(None, None), dtype=float32), dense_shape=Tensor(\"gradients/boolean_mask/GatherV2_grad/Cast:0\", shape=(2,), dtype=int32))) to a dense Tensor of unknown shape. This may consume a large amount of memory.\n",
      "  \"shape. This may consume a large amount of memory.\" % value)\n"
     ]
    },
    {
     "name": "stdout",
     "output_type": "stream",
     "text": [
      "epoch 1: loss = 1.8530517\n",
      "epoch 2: loss = 1.7761823\n",
      "epoch 3: loss = 1.9177244\n",
      "epoch 4: loss = 2.1445618\n",
      "epoch 5: loss = 1.9240010\n",
      "epoch 6: loss = 1.8159497\n",
      "epoch 7: loss = 1.8918860\n",
      "epoch 8: loss = 1.8607010\n",
      "epoch 9: loss = 1.8071690\n",
      "epoch 10: loss = 1.8703868\n",
      "epoch 11: loss = 1.9045316\n",
      "epoch 12: loss = 1.8840197\n",
      "epoch 13: loss = 1.9351382\n",
      "epoch 14: loss = 1.8825184\n",
      "epoch 15: loss = 1.8489228\n",
      "epoch 16: loss = 1.8160678\n",
      "epoch 17: loss = 1.8275738\n",
      "epoch 18: loss = 1.9263090\n",
      "epoch 19: loss = 2.1647797\n",
      "epoch 20: loss = 1.9420241\n",
      "epoch 21: loss = 1.8876498\n",
      "epoch 22: loss = 1.7746891\n",
      "epoch 23: loss = 1.8622558\n",
      "epoch 24: loss = 69.0447388\n",
      "epoch 25: loss = 1.8927996\n",
      "epoch 26: loss = 67.6524811\n",
      "epoch 27: loss = 2.2623255\n",
      "epoch 28: loss = 2.7635796\n",
      "epoch 29: loss = 1.8788116\n",
      "epoch 30: loss = 2.7704821\n",
      "epoch 31: loss = 1.8360044\n",
      "epoch 32: loss = 1.8098383\n",
      "epoch 33: loss = 1.7904291\n",
      "epoch 34: loss = 1.9492515\n",
      "epoch 35: loss = 2.8494475\n",
      "epoch 36: loss = 1.9189346\n",
      "epoch 37: loss = 2.8535781\n",
      "epoch 38: loss = 1.9496382\n",
      "epoch 39: loss = 2.3075874\n",
      "epoch 40: loss = 1.9206651\n",
      "epoch 41: loss = 1.8794242\n",
      "epoch 42: loss = 1.9078844\n",
      "epoch 43: loss = 1.8220702\n",
      "epoch 44: loss = 1.7780540\n",
      "epoch 45: loss = 1.8123091\n",
      "epoch 46: loss = 1.8770700\n",
      "epoch 47: loss = 1.7924942\n",
      "epoch 48: loss = 1.8670156\n",
      "epoch 49: loss = 1.8687153\n",
      "epoch 50: loss = 1.8470352\n",
      "epoch 51: loss = 1.8655076\n",
      "epoch 52: loss = 1.9507931\n",
      "epoch 53: loss = 1.8912206\n",
      "epoch 54: loss = 1.9319706\n",
      "epoch 55: loss = 1.8656404\n",
      "epoch 56: loss = 2.1391022\n",
      "epoch 57: loss = 1.8235198\n",
      "epoch 58: loss = 1.8545661\n",
      "epoch 59: loss = 2.0132174\n",
      "epoch 60: loss = 1.8122526\n",
      "epoch 61: loss = 1.8237226\n",
      "epoch 62: loss = 1.8498476\n",
      "epoch 63: loss = 2.4456494\n",
      "epoch 64: loss = 1.7778357\n",
      "epoch 65: loss = 1.9233171\n",
      "epoch 66: loss = 1.9169573\n",
      "epoch 67: loss = 4.0750332\n",
      "epoch 68: loss = 1.8947203\n",
      "epoch 69: loss = 1.8400772\n",
      "epoch 70: loss = 1.7951586\n",
      "epoch 71: loss = 2.0553885\n",
      "epoch 72: loss = 1.8736607\n",
      "epoch 73: loss = 4.1241732\n",
      "epoch 74: loss = 2.2956414\n",
      "epoch 75: loss = 69.7000351\n",
      "epoch 76: loss = 1.7375624\n",
      "epoch 77: loss = 1.9428915\n",
      "epoch 78: loss = 2.1031342\n",
      "epoch 79: loss = 1.9618220\n",
      "epoch 80: loss = 1.8304392\n",
      "epoch 81: loss = 1.9818938\n",
      "epoch 82: loss = 2.0585945\n",
      "epoch 83: loss = 1.8535718\n",
      "epoch 84: loss = 1.8984205\n",
      "epoch 85: loss = 69.2592010\n",
      "epoch 86: loss = 1.8892763\n",
      "epoch 87: loss = 1.9996934\n",
      "epoch 88: loss = 72.7105942\n",
      "epoch 89: loss = 1.8821390\n",
      "epoch 90: loss = 1.8867180\n",
      "epoch 91: loss = 1.9367231\n",
      "epoch 92: loss = 1.8597287\n",
      "epoch 93: loss = 2.2476821\n",
      "epoch 94: loss = 1.8916152\n",
      "epoch 95: loss = 1.8896673\n",
      "epoch 96: loss = 1.8957443\n",
      "epoch 97: loss = 1.8553892\n",
      "epoch 98: loss = 70.5552216\n",
      "epoch 99: loss = 1.8582850\n",
      "epoch 100: loss = 1.9341935\n"
     ]
    }
   ],
   "source": [
    "# Define and train model for hermitian metric\n",
    "hermitian_met = Hermitian_metric_O2(4, 1, [100])\n",
    "print(\"Hermitian metric G network defined\")\n",
    "c1 = tf.constant(2., shape=(1000), dtype=tf.complex64)\n",
    "optimizer = tf.keras.optimizers.Adam()\n",
    "loss_func = weighted_loss  \n",
    "loss_hist = []\n",
    "max_epochs = 100 \n",
    "epoch = 0\n",
    "#print(\"Beginning training\")\n",
    "while epoch < max_epochs:\n",
    "    epoch = epoch + 1\n",
    "    # print(\"epoch: \", epoch)\n",
    "    for step, (points, Omega_Omegabar, mass, restriction) in enumerate(train_set):\n",
    "        # print(\"mass: \", mass)\n",
    "        with tf.GradientTape() as tape:\n",
    "            curv_tr = curvature_trace(points, kahler_pot, hermitian_met, mass)\n",
    "            loss = loss_func(c1, curv_tr, mass) \n",
    "            grads = tape.gradient(loss, hermitian_met.trainable_weights)\n",
    "        optimizer.apply_gradients(zip(grads, hermitian_met.trainable_weights))\n",
    "    #if epoch % 50 == 0:\n",
    "    #    print(\"epoch %d: loss = %.7f\" % (epoch, loss))\n",
    "    loss_hist.append(loss)\n",
    "    hermitian_met.append_loss(loss)\n",
    "    print(\"epoch %d: loss = %.7f\" % (epoch, loss))"
   ]
  },
  {
   "cell_type": "code",
   "execution_count": 13,
   "metadata": {
    "ExecuteTime": {
     "end_time": "2021-02-23T14:31:27.266436Z",
     "start_time": "2021-02-23T14:31:26.815245Z"
    },
    "hidden": true
   },
   "outputs": [
    {
     "name": "stdout",
     "output_type": "stream",
     "text": [
      "Final loss:  ListWrapper([<tf.Tensor: shape=(), dtype=float32, numpy=1.9341935>])\n"
     ]
    },
    {
     "data": {
      "image/png": "[encoded data removed]",
      "text/plain": [
       "<Figure size 800x400 with 1 Axes>"
      ]
     },
     "metadata": {},
     "output_type": "display_data"
    }
   ],
   "source": [
    "plot_train_hist(hermitian_met, y_scale='linear')"
   ]
  },
  {
   "cell_type": "markdown",
   "metadata": {
    "hidden": true
   },
   "source": [
    "Validation/test data"
   ]
  },
  {
   "cell_type": "code",
   "execution_count": 14,
   "metadata": {
    "ExecuteTime": {
     "end_time": "2021-02-23T14:31:39.032625Z",
     "start_time": "2021-02-23T14:31:36.196197Z"
    },
    "hidden": true
   },
   "outputs": [
    {
     "data": {
      "text/plain": [
       "2.2119193"
      ]
     },
     "execution_count": 14,
     "metadata": {},
     "output_type": "execute_result"
    }
   ],
   "source": [
    "cal_total_loss(test_set, hermitian_met, kahler_pot, weighted_loss, c1)"
   ]
  },
  {
   "cell_type": "markdown",
   "metadata": {
    "heading_collapsed": true
   },
   "source": [
    "## O(4) -- 3 layer network"
   ]
  },
  {
   "cell_type": "markdown",
   "metadata": {
    "hidden": true
   },
   "source": [
    "Seems to train reasonably well compared to the others, "
   ]
  },
  {
   "cell_type": "code",
   "execution_count": 15,
   "metadata": {
    "ExecuteTime": {
     "end_time": "2021-02-23T14:46:40.444354Z",
     "start_time": "2021-02-23T14:31:47.048703Z"
    },
    "hidden": true
   },
   "outputs": [
    {
     "name": "stdout",
     "output_type": "stream",
     "text": [
      "Bundle rank 1\n",
      "Hermitian metric G network defined\n",
      "epoch 1: loss = 39.1416168\n",
      "epoch 2: loss = 4.8356481\n",
      "epoch 3: loss = 5.1060371\n",
      "epoch 4: loss = 4.9163494\n",
      "epoch 5: loss = 8.4873629\n",
      "epoch 6: loss = 5.5122018\n",
      "epoch 7: loss = 5.5622468\n",
      "epoch 8: loss = 5.2413821\n",
      "epoch 9: loss = 7.6594210\n",
      "epoch 10: loss = 5.4671988\n",
      "epoch 11: loss = 15.8508539\n",
      "epoch 12: loss = 4.7944870\n",
      "epoch 13: loss = 77.4971542\n",
      "epoch 14: loss = 5.1881475\n",
      "epoch 15: loss = 7.3809376\n",
      "epoch 16: loss = 4.9800577\n",
      "epoch 17: loss = 4.7370062\n",
      "epoch 18: loss = 16.2137451\n",
      "epoch 19: loss = 51.6156998\n",
      "epoch 20: loss = 4.9800963\n",
      "epoch 21: loss = 4.9426069\n",
      "epoch 22: loss = 7.3301363\n",
      "epoch 23: loss = 4.9958892\n",
      "epoch 24: loss = 7.2246909\n",
      "epoch 25: loss = 6.4574966\n",
      "epoch 26: loss = 4.6439958\n",
      "epoch 27: loss = 4.7956567\n",
      "epoch 28: loss = 66.7174606\n",
      "epoch 29: loss = 5.6579127\n",
      "epoch 30: loss = 4.8684931\n",
      "epoch 31: loss = 5.1801181\n",
      "epoch 32: loss = 7.0541368\n",
      "epoch 33: loss = 5.0552402\n",
      "epoch 34: loss = 6.4329433\n",
      "epoch 35: loss = 5.2751637\n",
      "epoch 36: loss = 4.8662567\n",
      "epoch 37: loss = 4.9226565\n",
      "epoch 38: loss = 4.9565253\n",
      "epoch 39: loss = 4.7795029\n",
      "epoch 40: loss = 4.9895248\n",
      "epoch 41: loss = 5.8227243\n",
      "epoch 42: loss = 62.4973907\n",
      "epoch 43: loss = 4.9713850\n",
      "epoch 44: loss = 4.9309902\n",
      "epoch 45: loss = 12.2955914\n",
      "epoch 46: loss = 4.5828123\n",
      "epoch 47: loss = 4.6924667\n",
      "epoch 48: loss = 4.9613571\n",
      "epoch 49: loss = 5.0706782\n",
      "epoch 50: loss = 55.7571831\n",
      "epoch 51: loss = 5.0076923\n",
      "epoch 52: loss = 4.9956741\n",
      "epoch 53: loss = 6.3211546\n",
      "epoch 54: loss = 4.9254479\n",
      "epoch 55: loss = 5.0457163\n",
      "epoch 56: loss = 4.8293262\n",
      "epoch 57: loss = 18.7749176\n",
      "epoch 58: loss = 4.7855334\n",
      "epoch 59: loss = 4.9768386\n",
      "epoch 60: loss = 5.4051833\n",
      "epoch 61: loss = 5.0015378\n",
      "epoch 62: loss = 5.3300638\n",
      "epoch 63: loss = 54.4691811\n",
      "epoch 64: loss = 6.0305481\n",
      "epoch 65: loss = 5.0184321\n",
      "epoch 66: loss = 5.4298310\n",
      "epoch 67: loss = 5.0740871\n",
      "epoch 68: loss = 5.3365836\n",
      "epoch 69: loss = 5.0727849\n",
      "epoch 70: loss = 11.3423214\n",
      "epoch 71: loss = 5.0674057\n",
      "epoch 72: loss = 5.4737391\n",
      "epoch 73: loss = 16.9494286\n",
      "epoch 74: loss = 5.2799644\n",
      "epoch 75: loss = 17.7276020\n",
      "epoch 76: loss = 4.8561254\n",
      "epoch 77: loss = 5.4398880\n",
      "epoch 78: loss = 16.7964439\n",
      "epoch 79: loss = 5.5640235\n",
      "epoch 80: loss = 4.9933209\n",
      "epoch 81: loss = 5.1368594\n",
      "epoch 82: loss = 5.0643578\n",
      "epoch 83: loss = 4.9390888\n",
      "epoch 84: loss = 4.9271803\n",
      "epoch 85: loss = 16.8124161\n",
      "epoch 86: loss = 54.8416443\n",
      "epoch 87: loss = 5.1930008\n",
      "epoch 88: loss = 4.7853456\n",
      "epoch 89: loss = 4.8331809\n",
      "epoch 90: loss = 6.5880585\n",
      "epoch 91: loss = 5.0633583\n",
      "epoch 92: loss = 5.3941231\n",
      "epoch 93: loss = 4.9493608\n",
      "epoch 94: loss = 4.8264008\n",
      "epoch 95: loss = 5.3359580\n",
      "epoch 96: loss = 5.9302816\n",
      "epoch 97: loss = 5.1752796\n",
      "epoch 98: loss = 7.1600146\n",
      "epoch 99: loss = 5.0132895\n",
      "epoch 100: loss = 5.2278247\n"
     ]
    }
   ],
   "source": [
    "# Define and train model for hermitian metric\n",
    "hermitian_met = Hermitian_metric_O4(4, 1, [10,100])\n",
    "print(\"Hermitian metric G network defined\")\n",
    "c1 = tf.constant(4., shape=(1000), dtype=tf.complex64)\n",
    "optimizer = tf.keras.optimizers.Adam()\n",
    "loss_func = weighted_loss \n",
    "max_epochs = 100 \n",
    "epoch = 0\n",
    "while epoch < max_epochs:\n",
    "    epoch = epoch + 1\n",
    "    for step, (points, Omega_Omegabar, mass, restriction) in enumerate(train_set):\n",
    "        with tf.GradientTape() as tape:\n",
    "            curv_tr = curvature_trace(points, kahler_pot, hermitian_met, mass)\n",
    "            #print(\"calculate curv_tr: \", curv_tr)\n",
    "            #print(\"c1: \", c1)\n",
    "            loss = loss_func(c1, curv_tr, mass) \n",
    "            # print(\"calculated loss: \", loss)\n",
    "            grads = tape.gradient(loss, hermitian_met.trainable_weights)\n",
    "        optimizer.apply_gradients(zip(grads, hermitian_met.trainable_weights))\n",
    "    #if epoch % 50 == 0:\n",
    "    #    print(\"epoch %d: loss = %.7f\" % (epoch, loss))\n",
    "    hermitian_met.append_loss(loss)\n",
    "    print(\"epoch %d: loss = %.7f\" % (epoch, loss))"
   ]
  },
  {
   "cell_type": "code",
   "execution_count": 19,
   "metadata": {
    "ExecuteTime": {
     "end_time": "2021-02-23T14:46:59.048722Z",
     "start_time": "2021-02-23T14:46:58.329207Z"
    },
    "hidden": true
   },
   "outputs": [
    {
     "name": "stdout",
     "output_type": "stream",
     "text": [
      "Final loss:  ListWrapper([<tf.Tensor: shape=(), dtype=float32, numpy=5.2278247>])\n"
     ]
    },
    {
     "data": {
      "image/png": "[encoded data removed]",
      "text/plain": [
       "<Figure size 800x400 with 1 Axes>"
      ]
     },
     "metadata": {},
     "output_type": "display_data"
    }
   ],
   "source": [
    "plot_train_hist(hermitian_met, y_scale='log')"
   ]
  },
  {
   "cell_type": "markdown",
   "metadata": {
    "hidden": true
   },
   "source": [
    "Validation/test data"
   ]
  },
  {
   "cell_type": "code",
   "execution_count": 18,
   "metadata": {
    "ExecuteTime": {
     "end_time": "2021-02-23T14:46:51.894268Z",
     "start_time": "2021-02-23T14:46:48.789595Z"
    },
    "hidden": true
   },
   "outputs": [
    {
     "data": {
      "text/plain": [
       "6.729216"
      ]
     },
     "execution_count": 18,
     "metadata": {},
     "output_type": "execute_result"
    }
   ],
   "source": [
    "cal_total_loss(test_set, hermitian_met, kahler_pot, weighted_loss, c1)"
   ]
  }
 ],
 "metadata": {
  "kernelspec": {
   "display_name": "Python 3",
   "language": "python",
   "name": "python3"
  },
  "language_info": {
   "codemirror_mode": {
    "name": "ipython",
    "version": 3
   },
   "file_extension": ".py",
   "mimetype": "text/x-python",
   "name": "python",
   "nbconvert_exporter": "python",
   "pygments_lexer": "ipython3",
   "version": "3.7.3"
  },
  "latex_envs": {
   "LaTeX_envs_menu_present": true,
   "autoclose": false,
   "autocomplete": true,
   "bibliofile": "biblio.bib",
   "cite_by": "apalike",
   "current_citInitial": 1,
   "eqLabelWithNumbers": true,
   "eqNumInitial": 1,
   "hotkeys": {
    "equation": "Ctrl-E",
    "itemize": "Ctrl-I"
   },
   "labels_anchors": false,
   "latex_user_defs": false,
   "report_style_numbering": false,
   "user_envs_cfg": false
  },
  "toc": {
   "base_numbering": 1,
   "nav_menu": {},
   "number_sections": true,
   "sideBar": true,
   "skip_h1_title": false,
   "title_cell": "Table of Contents",
   "title_sidebar": "Contents",
   "toc_cell": false,
   "toc_position": {
    "height": "47.25px",
    "left": "1278px",
    "top": "49.5333px",
    "width": "212px"
   },
   "toc_section_display": true,
   "toc_window_display": true
  }
 },
 "nbformat": 4,
 "nbformat_minor": 2
}
